{
 "cells": [
  {
   "cell_type": "markdown",
   "id": "c3ba9ae1",
   "metadata": {},
   "source": [
    "# **FORECASTING PRICE OF LETTUCE IN THE UK**\n",
    "© **Explore Data Science Academy**"
   ]
  },
  {
   "cell_type": "markdown",
   "id": "44a9456a",
   "metadata": {},
   "source": [
    "_Prepared by:_\n",
    "- McMunashe Munemo\n",
    "- Stanley Agbo\n",
    "- Nicodemus Amollo\n",
    "- Winfred Mutinda\n",
    "- Colin Mburugu\n",
    "- Dennis Gitari"
   ]
  },
  {
   "cell_type": "markdown",
   "id": "4e834899",
   "metadata": {},
   "source": [
    "## **TABLE OF CONTENTS**\n",
    "\n",
    "[Introduction](#introduction)\n",
    "- Problem Statement\n",
    "- Table of Contents\n",
    "- Summary\n",
    "    - Agenda\n",
    "    - Deliverables\n",
    "    - Results\n",
    "    - Future Considerations\n",
    "- Preliminary Activities\n",
    "    - Importing Packages\n",
    "    - Loading the Datasets\n",
    "    \n",
    "[Exploratory Data Analysis](#exploratory_data_analysis)\n",
    "- Functions Declaration\n",
    "- Statistical Summaries\n",
    "    - Train Dataset\n",
    "    - Test Dataset\n",
    "- Visualizations\n",
    "\n",
    "[Feature Engineering](#feature_engineering)\n",
    "- Functions Declaration\n",
    "- Dealing with Null Values\n",
    "- Splitting features\n",
    "- Dummy Variables\n",
    "- Data Scaling\n",
    "- Feature Selection\n",
    "\n",
    "[Modelling](#modelling)\n",
    "- Functions Declaration\n",
    "\n",
    "\n",
    "[Model Performance Comparison](#model_performance_comparison)\n",
    "\n",
    "\n",
    "[Model Explanation](#model_explanation)\n",
    "\n",
    "[Conclusion](#conclusion)\n",
    "\n",
    "[Appendix](#appendix)"
   ]
  },
  {
   "cell_type": "markdown",
   "id": "e018e720",
   "metadata": {},
   "source": [
    "## **INTRODUCTION**"
   ]
  },
  {
   "cell_type": "markdown",
   "id": "5001324d",
   "metadata": {},
   "source": [
    "This section describes the project briefly\n"
   ]
  },
  {
   "cell_type": "markdown",
   "id": "871eed66",
   "metadata": {},
   "source": [
    "## IMPORTING PACKAGES"
   ]
  },
  {
   "cell_type": "code",
   "execution_count": null,
   "id": "a09b4832",
   "metadata": {},
   "outputs": [],
   "source": [
    "#Packages to analyse and manipulate data\n",
    "import numpy as np\n",
    "import pandas as pd\n",
    "\n",
    "#Packages to visualise data\n",
    "import matplotlib.pyplot as plt\n",
    "from matplotlib import rc\n",
    "import seaborn as sns\n",
    "import missingno as msno\n",
    "from statsmodels.graphics.correlation import plot_corr\n",
    "from sklearn.tree import plot_tree\n",
    "\n",
    "#Packages to run data imputation on null values\n",
    "from sklearn.experimental import enable_iterative_imputer\n",
    "from sklearn.impute import IterativeImputer\n",
    "\n",
    "#Packages for feature selection\n",
    "from sklearn.feature_selection import VarianceThreshold\n",
    "from statsmodels.formula.api import ols\n",
    "from sklearn.feature_selection import SelectKBest\n",
    "from sklearn.feature_selection import mutual_info_regression\n",
    "\n",
    "#Data Scaling modules\n",
    "from sklearn.preprocessing import MinMaxScaler \n",
    "from sklearn.preprocessing import StandardScaler \n",
    "\n",
    "#Packages to split the data for testing and training\n",
    "from sklearn.model_selection import train_test_split \n",
    "\n",
    "#Modelling packages\n",
    "from sklearn.linear_model import LinearRegression\n",
    "from sklearn.tree import DecisionTreeRegressor\n",
    "from sklearn.svm import SVR \n",
    "from sklearn.ensemble import RandomForestRegressor\n",
    "from sklearn.neighbors import KNeighborsRegressor\n",
    "import xgboost as xgb\n",
    "\n",
    "#Model evaluation packages\n",
    "from sklearn import metrics\n",
    "from sklearn.metrics import mean_squared_error, r2_score\n",
    "\n",
    "#Libraries for Model Visualization\n",
    "from comet_ml import Experiment\n",
    "\n",
    "#Library for creating pickle files of the models\n",
    "import pickle"
   ]
  },
  {
   "cell_type": "markdown",
   "id": "964038a5",
   "metadata": {},
   "source": [
    "## LOADING THE DATASETS"
   ]
  },
  {
   "cell_type": "code",
   "execution_count": null,
   "id": "49e4887c",
   "metadata": {},
   "outputs": [],
   "source": []
  },
  {
   "cell_type": "markdown",
   "id": "55eca989",
   "metadata": {},
   "source": [
    "## PROBLEM STATEMENT"
   ]
  },
  {
   "cell_type": "code",
   "execution_count": null,
   "id": "1d4f36a6",
   "metadata": {},
   "outputs": [],
   "source": []
  },
  {
   "cell_type": "markdown",
   "id": "26bde403",
   "metadata": {},
   "source": [
    "## EXPLORATORY DATA ANALYSIS"
   ]
  },
  {
   "cell_type": "code",
   "execution_count": null,
   "id": "43b0c265",
   "metadata": {},
   "outputs": [],
   "source": []
  },
  {
   "cell_type": "code",
   "execution_count": null,
   "id": "43d44119",
   "metadata": {},
   "outputs": [],
   "source": []
  },
  {
   "cell_type": "code",
   "execution_count": null,
   "id": "8b5e7574",
   "metadata": {},
   "outputs": [],
   "source": []
  },
  {
   "cell_type": "code",
   "execution_count": null,
   "id": "e0362041",
   "metadata": {},
   "outputs": [],
   "source": []
  },
  {
   "cell_type": "markdown",
   "id": "1c3abccf",
   "metadata": {},
   "source": [
    "## FEATURE ENGINEERING"
   ]
  },
  {
   "cell_type": "code",
   "execution_count": null,
   "id": "532a7e6d",
   "metadata": {},
   "outputs": [],
   "source": []
  },
  {
   "cell_type": "code",
   "execution_count": null,
   "id": "165a41d4",
   "metadata": {},
   "outputs": [],
   "source": []
  },
  {
   "cell_type": "code",
   "execution_count": null,
   "id": "c012e23d",
   "metadata": {},
   "outputs": [],
   "source": []
  },
  {
   "cell_type": "code",
   "execution_count": null,
   "id": "96e7a92b",
   "metadata": {},
   "outputs": [],
   "source": []
  },
  {
   "cell_type": "code",
   "execution_count": null,
   "id": "7534bee1",
   "metadata": {},
   "outputs": [],
   "source": []
  },
  {
   "cell_type": "markdown",
   "id": "0ed29914",
   "metadata": {},
   "source": [
    "## MODEL SELECTION"
   ]
  },
  {
   "cell_type": "code",
   "execution_count": null,
   "id": "9a13c4aa",
   "metadata": {},
   "outputs": [],
   "source": []
  },
  {
   "cell_type": "code",
   "execution_count": null,
   "id": "6d3b7001",
   "metadata": {},
   "outputs": [],
   "source": []
  },
  {
   "cell_type": "code",
   "execution_count": null,
   "id": "e26c456c",
   "metadata": {},
   "outputs": [],
   "source": []
  },
  {
   "cell_type": "code",
   "execution_count": null,
   "id": "ff021c7d",
   "metadata": {},
   "outputs": [],
   "source": []
  },
  {
   "cell_type": "markdown",
   "id": "2caa0d35",
   "metadata": {},
   "source": [
    "## MODEL PERFORMANCE COMPARISON"
   ]
  },
  {
   "cell_type": "code",
   "execution_count": null,
   "id": "a80899e8",
   "metadata": {},
   "outputs": [],
   "source": []
  },
  {
   "cell_type": "code",
   "execution_count": null,
   "id": "bb77b84b",
   "metadata": {},
   "outputs": [],
   "source": []
  },
  {
   "cell_type": "markdown",
   "id": "8ff06267",
   "metadata": {},
   "source": [
    "## CONCLUSION"
   ]
  },
  {
   "cell_type": "code",
   "execution_count": null,
   "id": "f472c164",
   "metadata": {},
   "outputs": [],
   "source": []
  }
 ],
 "metadata": {
  "kernelspec": {
   "display_name": "Python 3 (ipykernel)",
   "language": "python",
   "name": "python3"
  },
  "language_info": {
   "codemirror_mode": {
    "name": "ipython",
    "version": 3
   },
   "file_extension": ".py",
   "mimetype": "text/x-python",
   "name": "python",
   "nbconvert_exporter": "python",
   "pygments_lexer": "ipython3",
   "version": "3.9.12"
  }
 },
 "nbformat": 4,
 "nbformat_minor": 5
}
