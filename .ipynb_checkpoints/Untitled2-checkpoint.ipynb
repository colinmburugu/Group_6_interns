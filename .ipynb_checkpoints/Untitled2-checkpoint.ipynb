{
 "cells": [
  {
   "cell_type": "code",
   "execution_count": 1,
   "id": "4250ae77",
   "metadata": {},
   "outputs": [],
   "source": [
    "import pandas as pd\n",
    "import numpy as np\n",
    "import seaborn as sns\n",
    "import matplotlib.pyplot as plt\n",
    "from datetime import datetime\n",
    "%matplotlib inline"
   ]
  },
  {
   "cell_type": "markdown",
   "id": "88cc1ef7",
   "metadata": {},
   "source": [
    "#### Reading Data"
   ]
  },
  {
   "cell_type": "code",
   "execution_count": 66,
   "id": "db85e694",
   "metadata": {},
   "outputs": [],
   "source": [
    "df = pd.read_stata(\"data/5pct_sample_2019_10.dta\")\n",
    "db_date = pd.read_csv(\"data/db_date.csv\")"
   ]
  },
  {
   "cell_type": "code",
   "execution_count": 67,
   "id": "4a071129",
   "metadata": {},
   "outputs": [],
   "source": [
    "new_df = df.merge(db_date, on = 'date')"
   ]
  },
  {
   "cell_type": "code",
   "execution_count": 68,
   "id": "712450f1",
   "metadata": {},
   "outputs": [],
   "source": [
    "df1 = np.where(new_df['item'] == 250)\n",
    "df1 = new_df.loc[df1]"
   ]
  },
  {
   "cell_type": "code",
   "execution_count": null,
   "id": "8a169fa8",
   "metadata": {},
   "outputs": [],
   "source": []
  },
  {
   "cell_type": "code",
   "execution_count": 69,
   "id": "7bda9d12",
   "metadata": {},
   "outputs": [
    {
     "data": {
      "text/html": [
       "<div>\n",
       "<style scoped>\n",
       "    .dataframe tbody tr th:only-of-type {\n",
       "        vertical-align: middle;\n",
       "    }\n",
       "\n",
       "    .dataframe tbody tr th {\n",
       "        vertical-align: top;\n",
       "    }\n",
       "\n",
       "    .dataframe thead th {\n",
       "        text-align: right;\n",
       "    }\n",
       "</style>\n",
       "<table border=\"1\" class=\"dataframe\">\n",
       "  <thead>\n",
       "    <tr style=\"text-align: right;\">\n",
       "      <th></th>\n",
       "      <th>date2</th>\n",
       "      <th>price</th>\n",
       "      <th>region</th>\n",
       "    </tr>\n",
       "  </thead>\n",
       "  <tbody>\n",
       "    <tr>\n",
       "      <th>141</th>\n",
       "      <td>01-12-2014</td>\n",
       "      <td>0.45</td>\n",
       "      <td>London</td>\n",
       "    </tr>\n",
       "    <tr>\n",
       "      <th>696</th>\n",
       "      <td>01-12-2014</td>\n",
       "      <td>0.49</td>\n",
       "      <td>South East</td>\n",
       "    </tr>\n",
       "    <tr>\n",
       "      <th>1726</th>\n",
       "      <td>01-12-2014</td>\n",
       "      <td>0.75</td>\n",
       "      <td>East Anglia</td>\n",
       "    </tr>\n",
       "    <tr>\n",
       "      <th>1727</th>\n",
       "      <td>01-12-2014</td>\n",
       "      <td>0.99</td>\n",
       "      <td>East Anglia</td>\n",
       "    </tr>\n",
       "    <tr>\n",
       "      <th>1728</th>\n",
       "      <td>01-12-2014</td>\n",
       "      <td>0.49</td>\n",
       "      <td>East Anglia</td>\n",
       "    </tr>\n",
       "  </tbody>\n",
       "</table>\n",
       "</div>"
      ],
      "text/plain": [
       "           date2  price       region\n",
       "141   01-12-2014   0.45       London\n",
       "696   01-12-2014   0.49   South East\n",
       "1726  01-12-2014   0.75  East Anglia\n",
       "1727  01-12-2014   0.99  East Anglia\n",
       "1728  01-12-2014   0.49  East Anglia"
      ]
     },
     "execution_count": 69,
     "metadata": {},
     "output_type": "execute_result"
    }
   ],
   "source": [
    "ts = df1[['date2','price','region']]\n",
    "ts.head()"
   ]
  },
  {
   "cell_type": "code",
   "execution_count": 70,
   "id": "a9adeb20",
   "metadata": {},
   "outputs": [
    {
     "name": "stderr",
     "output_type": "stream",
     "text": [
      "C:\\ProgramData\\Anaconda3\\lib\\site-packages\\pandas\\core\\frame.py:5039: SettingWithCopyWarning: \n",
      "A value is trying to be set on a copy of a slice from a DataFrame\n",
      "\n",
      "See the caveats in the documentation: https://pandas.pydata.org/pandas-docs/stable/user_guide/indexing.html#returning-a-view-versus-a-copy\n",
      "  return super().rename(\n"
     ]
    }
   ],
   "source": [
    "ts.rename(columns={'date2':'date'},inplace = True)"
   ]
  },
  {
   "cell_type": "code",
   "execution_count": 71,
   "id": "d35e2d74",
   "metadata": {},
   "outputs": [
    {
     "name": "stderr",
     "output_type": "stream",
     "text": [
      "C:\\Users\\ColCelCo\\AppData\\Local\\Temp/ipykernel_32660/2922480741.py:1: SettingWithCopyWarning: \n",
      "A value is trying to be set on a copy of a slice from a DataFrame.\n",
      "Try using .loc[row_indexer,col_indexer] = value instead\n",
      "\n",
      "See the caveats in the documentation: https://pandas.pydata.org/pandas-docs/stable/user_guide/indexing.html#returning-a-view-versus-a-copy\n",
      "  ts['date'] = pd.to_datetime(ts[\"date\"],format=\"%d-%m-%Y\")\n"
     ]
    }
   ],
   "source": [
    "ts['date'] = pd.to_datetime(ts[\"date\"],format=\"%d-%m-%Y\")"
   ]
  },
  {
   "cell_type": "markdown",
   "id": "2630ac06",
   "metadata": {},
   "source": [
    "#### Data Cleaning"
   ]
  },
  {
   "cell_type": "code",
   "execution_count": 21,
   "id": "2dcab730",
   "metadata": {},
   "outputs": [],
   "source": [
    "#setting the date column as our new index\n",
    "#ts.set_index(\"date\",inplace = True)"
   ]
  },
  {
   "cell_type": "code",
   "execution_count": 72,
   "id": "b71cdce8",
   "metadata": {},
   "outputs": [
    {
     "data": {
      "text/html": [
       "<div>\n",
       "<style scoped>\n",
       "    .dataframe tbody tr th:only-of-type {\n",
       "        vertical-align: middle;\n",
       "    }\n",
       "\n",
       "    .dataframe tbody tr th {\n",
       "        vertical-align: top;\n",
       "    }\n",
       "\n",
       "    .dataframe thead th {\n",
       "        text-align: right;\n",
       "    }\n",
       "</style>\n",
       "<table border=\"1\" class=\"dataframe\">\n",
       "  <thead>\n",
       "    <tr style=\"text-align: right;\">\n",
       "      <th></th>\n",
       "      <th>date</th>\n",
       "      <th>price</th>\n",
       "      <th>region</th>\n",
       "    </tr>\n",
       "  </thead>\n",
       "  <tbody>\n",
       "    <tr>\n",
       "      <th>141</th>\n",
       "      <td>2014-12-01</td>\n",
       "      <td>0.45</td>\n",
       "      <td>London</td>\n",
       "    </tr>\n",
       "    <tr>\n",
       "      <th>696</th>\n",
       "      <td>2014-12-01</td>\n",
       "      <td>0.49</td>\n",
       "      <td>South East</td>\n",
       "    </tr>\n",
       "    <tr>\n",
       "      <th>1726</th>\n",
       "      <td>2014-12-01</td>\n",
       "      <td>0.75</td>\n",
       "      <td>East Anglia</td>\n",
       "    </tr>\n",
       "    <tr>\n",
       "      <th>1727</th>\n",
       "      <td>2014-12-01</td>\n",
       "      <td>0.99</td>\n",
       "      <td>East Anglia</td>\n",
       "    </tr>\n",
       "    <tr>\n",
       "      <th>1728</th>\n",
       "      <td>2014-12-01</td>\n",
       "      <td>0.49</td>\n",
       "      <td>East Anglia</td>\n",
       "    </tr>\n",
       "  </tbody>\n",
       "</table>\n",
       "</div>"
      ],
      "text/plain": [
       "           date  price       region\n",
       "141  2014-12-01   0.45       London\n",
       "696  2014-12-01   0.49   South East\n",
       "1726 2014-12-01   0.75  East Anglia\n",
       "1727 2014-12-01   0.99  East Anglia\n",
       "1728 2014-12-01   0.49  East Anglia"
      ]
     },
     "execution_count": 72,
     "metadata": {},
     "output_type": "execute_result"
    }
   ],
   "source": [
    "ts.head()"
   ]
  },
  {
   "cell_type": "code",
   "execution_count": 73,
   "id": "da3e6466",
   "metadata": {},
   "outputs": [
    {
     "name": "stderr",
     "output_type": "stream",
     "text": [
      "C:\\ProgramData\\Anaconda3\\lib\\site-packages\\pandas\\util\\_decorators.py:311: SettingWithCopyWarning: \n",
      "A value is trying to be set on a copy of a slice from a DataFrame\n",
      "\n",
      "See the caveats in the documentation: https://pandas.pydata.org/pandas-docs/stable/user_guide/indexing.html#returning-a-view-versus-a-copy\n",
      "  return func(*args, **kwargs)\n"
     ]
    }
   ],
   "source": [
    "#Removing duplicates\n",
    "ts.drop_duplicates(keep = \"first\",inplace = True)"
   ]
  },
  {
   "cell_type": "code",
   "execution_count": 74,
   "id": "548d80a9",
   "metadata": {},
   "outputs": [
    {
     "data": {
      "text/plain": [
       "0"
      ]
     },
     "execution_count": 74,
     "metadata": {},
     "output_type": "execute_result"
    }
   ],
   "source": [
    "ts.duplicated().sum()"
   ]
  },
  {
   "cell_type": "code",
   "execution_count": 75,
   "id": "d9ac6986",
   "metadata": {},
   "outputs": [
    {
     "data": {
      "text/plain": [
       "(4159, 3)"
      ]
     },
     "execution_count": 75,
     "metadata": {},
     "output_type": "execute_result"
    }
   ],
   "source": [
    "ts.shape"
   ]
  },
  {
   "cell_type": "code",
   "execution_count": 76,
   "id": "9861d5af",
   "metadata": {},
   "outputs": [
    {
     "data": {
      "text/html": [
       "<div>\n",
       "<style scoped>\n",
       "    .dataframe tbody tr th:only-of-type {\n",
       "        vertical-align: middle;\n",
       "    }\n",
       "\n",
       "    .dataframe tbody tr th {\n",
       "        vertical-align: top;\n",
       "    }\n",
       "\n",
       "    .dataframe thead th {\n",
       "        text-align: right;\n",
       "    }\n",
       "</style>\n",
       "<table border=\"1\" class=\"dataframe\">\n",
       "  <thead>\n",
       "    <tr style=\"text-align: right;\">\n",
       "      <th></th>\n",
       "      <th>date</th>\n",
       "      <th>price</th>\n",
       "      <th>region</th>\n",
       "    </tr>\n",
       "  </thead>\n",
       "  <tbody>\n",
       "    <tr>\n",
       "      <th>141</th>\n",
       "      <td>2014-12-01</td>\n",
       "      <td>0.45</td>\n",
       "      <td>London</td>\n",
       "    </tr>\n",
       "    <tr>\n",
       "      <th>696</th>\n",
       "      <td>2014-12-01</td>\n",
       "      <td>0.49</td>\n",
       "      <td>South East</td>\n",
       "    </tr>\n",
       "    <tr>\n",
       "      <th>1726</th>\n",
       "      <td>2014-12-01</td>\n",
       "      <td>0.75</td>\n",
       "      <td>East Anglia</td>\n",
       "    </tr>\n",
       "    <tr>\n",
       "      <th>1727</th>\n",
       "      <td>2014-12-01</td>\n",
       "      <td>0.99</td>\n",
       "      <td>East Anglia</td>\n",
       "    </tr>\n",
       "    <tr>\n",
       "      <th>1728</th>\n",
       "      <td>2014-12-01</td>\n",
       "      <td>0.49</td>\n",
       "      <td>East Anglia</td>\n",
       "    </tr>\n",
       "    <tr>\n",
       "      <th>...</th>\n",
       "      <td>...</td>\n",
       "      <td>...</td>\n",
       "      <td>...</td>\n",
       "    </tr>\n",
       "    <tr>\n",
       "      <th>1768950</th>\n",
       "      <td>1993-12-01</td>\n",
       "      <td>0.45</td>\n",
       "      <td>West Midlands</td>\n",
       "    </tr>\n",
       "    <tr>\n",
       "      <th>1769795</th>\n",
       "      <td>1993-12-01</td>\n",
       "      <td>0.49</td>\n",
       "      <td>North West</td>\n",
       "    </tr>\n",
       "    <tr>\n",
       "      <th>1770287</th>\n",
       "      <td>1993-12-01</td>\n",
       "      <td>0.49</td>\n",
       "      <td>North</td>\n",
       "    </tr>\n",
       "    <tr>\n",
       "      <th>1770684</th>\n",
       "      <td>1993-12-01</td>\n",
       "      <td>0.39</td>\n",
       "      <td>Wales</td>\n",
       "    </tr>\n",
       "    <tr>\n",
       "      <th>1770984</th>\n",
       "      <td>1993-12-01</td>\n",
       "      <td>0.35</td>\n",
       "      <td>Scotland</td>\n",
       "    </tr>\n",
       "  </tbody>\n",
       "</table>\n",
       "<p>4159 rows × 3 columns</p>\n",
       "</div>"
      ],
      "text/plain": [
       "              date  price         region\n",
       "141     2014-12-01   0.45         London\n",
       "696     2014-12-01   0.49     South East\n",
       "1726    2014-12-01   0.75    East Anglia\n",
       "1727    2014-12-01   0.99    East Anglia\n",
       "1728    2014-12-01   0.49    East Anglia\n",
       "...            ...    ...            ...\n",
       "1768950 1993-12-01   0.45  West Midlands\n",
       "1769795 1993-12-01   0.49     North West\n",
       "1770287 1993-12-01   0.49          North\n",
       "1770684 1993-12-01   0.39          Wales\n",
       "1770984 1993-12-01   0.35       Scotland\n",
       "\n",
       "[4159 rows x 3 columns]"
      ]
     },
     "execution_count": 76,
     "metadata": {},
     "output_type": "execute_result"
    }
   ],
   "source": [
    "ts"
   ]
  },
  {
   "cell_type": "code",
   "execution_count": 77,
   "id": "4c585dd2",
   "metadata": {},
   "outputs": [
    {
     "data": {
      "text/plain": [
       "['London',\n",
       " 'South East',\n",
       " 'East Anglia',\n",
       " 'East Midlands',\n",
       " 'Yorkshire & Humber',\n",
       " 'North',\n",
       " 'Wales',\n",
       " 'Scotland',\n",
       " 'North West',\n",
       " 'South West',\n",
       " 'West Midlands',\n",
       " 'Northern Ireland',\n",
       " 99]"
      ]
     },
     "execution_count": 77,
     "metadata": {},
     "output_type": "execute_result"
    }
   ],
   "source": [
    "list(ts['region'].unique())"
   ]
  },
  {
   "cell_type": "code",
   "execution_count": 78,
   "id": "abd553e0",
   "metadata": {},
   "outputs": [],
   "source": [
    "ts1 = np.where(ts['region'] == 'London')\n",
    "ts1 = ts.iloc[ts1]\n",
    "# ts_1 =  ts1.pivot(columns=\"region\", values=\"price\")\n",
    "# ts_1.head()"
   ]
  },
  {
   "cell_type": "code",
   "execution_count": 79,
   "id": "724fa492",
   "metadata": {},
   "outputs": [
    {
     "data": {
      "text/plain": [
       "(447, 3)"
      ]
     },
     "execution_count": 79,
     "metadata": {},
     "output_type": "execute_result"
    }
   ],
   "source": [
    "ts1.shape"
   ]
  },
  {
   "cell_type": "code",
   "execution_count": 80,
   "id": "f93c1202",
   "metadata": {},
   "outputs": [
    {
     "name": "stderr",
     "output_type": "stream",
     "text": [
      "C:\\ProgramData\\Anaconda3\\lib\\site-packages\\pandas\\core\\series.py:2136: SettingWithCopyWarning: \n",
      "A value is trying to be set on a copy of a slice from a DataFrame\n",
      "\n",
      "See the caveats in the documentation: https://pandas.pydata.org/pandas-docs/stable/user_guide/indexing.html#returning-a-view-versus-a-copy\n",
      "  self._update_inplace(result)\n"
     ]
    }
   ],
   "source": [
    "ts1['date'].drop_duplicates(keep = 'first',inplace = True)"
   ]
  },
  {
   "cell_type": "code",
   "execution_count": 65,
   "id": "892aef67",
   "metadata": {},
   "outputs": [
    {
     "data": {
      "text/plain": [
       "(447, 3)"
      ]
     },
     "execution_count": 65,
     "metadata": {},
     "output_type": "execute_result"
    }
   ],
   "source": [
    "ts1.shape"
   ]
  },
  {
   "cell_type": "code",
   "execution_count": 83,
   "id": "25ad4b3c",
   "metadata": {},
   "outputs": [
    {
     "data": {
      "text/plain": [
       "182"
      ]
     },
     "execution_count": 83,
     "metadata": {},
     "output_type": "execute_result"
    }
   ],
   "source": [
    "ts1['date'].duplicated().sum()"
   ]
  },
  {
   "cell_type": "code",
   "execution_count": 84,
   "id": "ff83e643",
   "metadata": {},
   "outputs": [],
   "source": [
    "ts2 = ts1.groupby('date').mean()"
   ]
  },
  {
   "cell_type": "code",
   "execution_count": null,
   "id": "f9bdc3a7",
   "metadata": {},
   "outputs": [],
   "source": []
  }
 ],
 "metadata": {
  "kernelspec": {
   "display_name": "Python 3 (ipykernel)",
   "language": "python",
   "name": "python3"
  },
  "language_info": {
   "codemirror_mode": {
    "name": "ipython",
    "version": 3
   },
   "file_extension": ".py",
   "mimetype": "text/x-python",
   "name": "python",
   "nbconvert_exporter": "python",
   "pygments_lexer": "ipython3",
   "version": "3.9.7"
  }
 },
 "nbformat": 4,
 "nbformat_minor": 5
}
