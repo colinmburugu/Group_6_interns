{
 "cells": [
  {
   "cell_type": "code",
   "execution_count": 1,
   "id": "7eec5fe3",
   "metadata": {},
   "outputs": [],
   "source": [
    "import pandas as pd\n",
    "import numpy as np\n",
    "import seaborn as sns\n",
    "import matplotlib.pyplot as plt\n",
    "%matplotlib inline"
   ]
  },
  {
   "cell_type": "code",
   "execution_count": 2,
   "id": "7ee78cbc",
   "metadata": {},
   "outputs": [],
   "source": [
    "#Dataframe to be used for EDA and modelling \n",
    "df = pd.read_stata(\"data/5pct_sample_2019_10.dta\")"
   ]
  },
  {
   "cell_type": "code",
   "execution_count": 4,
   "id": "50f92d8b",
   "metadata": {},
   "outputs": [],
   "source": [
    "#Dataframe to be used for further analysis\n",
    "perc = pd.read_csv(\"data/percentiles_2019_10.csv\")"
   ]
  },
  {
   "cell_type": "code",
   "execution_count": 5,
   "id": "879f2708",
   "metadata": {},
   "outputs": [],
   "source": [
    "dates = pd.read_csv(\"data/dates_2019_10.csv\")"
   ]
  },
  {
   "cell_type": "code",
   "execution_count": null,
   "id": "a0b06fc3",
   "metadata": {},
   "outputs": [],
   "source": []
  }
 ],
 "metadata": {
  "kernelspec": {
   "display_name": "Python 3 (ipykernel)",
   "language": "python",
   "name": "python3"
  },
  "language_info": {
   "codemirror_mode": {
    "name": "ipython",
    "version": 3
   },
   "file_extension": ".py",
   "mimetype": "text/x-python",
   "name": "python",
   "nbconvert_exporter": "python",
   "pygments_lexer": "ipython3",
   "version": "3.9.7"
  }
 },
 "nbformat": 4,
 "nbformat_minor": 5
}
